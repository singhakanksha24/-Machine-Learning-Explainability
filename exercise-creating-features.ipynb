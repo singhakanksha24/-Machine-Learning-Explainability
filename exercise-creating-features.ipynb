{
 "cells": [
  {
   "cell_type": "markdown",
   "id": "91efb378",
   "metadata": {
    "papermill": {
     "duration": 0.017349,
     "end_time": "2021-11-29T18:33:34.099191",
     "exception": false,
     "start_time": "2021-11-29T18:33:34.081842",
     "status": "completed"
    },
    "tags": []
   },
   "source": [
    "**This notebook is an exercise in the [Feature Engineering](https://www.kaggle.com/learn/feature-engineering) course.  You can reference the tutorial at [this link](https://www.kaggle.com/ryanholbrook/creating-features).**\n",
    "\n",
    "---\n"
   ]
  },
  {
   "cell_type": "markdown",
   "id": "c478f7f0",
   "metadata": {
    "papermill": {
     "duration": 0.015857,
     "end_time": "2021-11-29T18:33:34.133279",
     "exception": false,
     "start_time": "2021-11-29T18:33:34.117422",
     "status": "completed"
    },
    "tags": []
   },
   "source": [
    "# Introduction #\n",
    "\n",
    "In this exercise you'll start developing the features you identified in Exercise 2 as having the most potential. As you work through this exercise, you might take a moment to look at the data documentation again and consider whether the features we're creating make sense from a real-world perspective, and whether there are any useful combinations that stand out to you.\n",
    "\n",
    "Run this cell to set everything up!"
   ]
  },
  {
   "cell_type": "code",
   "execution_count": 1,
   "id": "26f7381e",
   "metadata": {
    "execution": {
     "iopub.execute_input": "2021-11-29T18:33:34.182280Z",
     "iopub.status.busy": "2021-11-29T18:33:34.181524Z",
     "iopub.status.idle": "2021-11-29T18:33:35.431891Z",
     "shell.execute_reply": "2021-11-29T18:33:35.431202Z",
     "shell.execute_reply.started": "2021-11-29T18:30:41.012553Z"
    },
    "papermill": {
     "duration": 1.280482,
     "end_time": "2021-11-29T18:33:35.432068",
     "exception": false,
     "start_time": "2021-11-29T18:33:34.151586",
     "status": "completed"
    },
    "tags": []
   },
   "outputs": [],
   "source": [
    "# Setup feedback system\n",
    "from learntools.core import binder\n",
    "binder.bind(globals())\n",
    "from learntools.feature_engineering_new.ex3 import *\n",
    "\n",
    "import numpy as np\n",
    "import pandas as pd\n",
    "from sklearn.model_selection import cross_val_score\n",
    "from xgboost import XGBRegressor\n",
    "\n",
    "\n",
    "def score_dataset(X, y, model=XGBRegressor()):\n",
    "    # Label encoding for categoricals\n",
    "    for colname in X.select_dtypes([\"category\", \"object\"]):\n",
    "        X[colname], _ = X[colname].factorize()\n",
    "    # Metric for Housing competition is RMSLE (Root Mean Squared Log Error)\n",
    "    score = cross_val_score(\n",
    "        model, X, y, cv=5, scoring=\"neg_mean_squared_log_error\",\n",
    "    )\n",
    "    score = -1 * score.mean()\n",
    "    score = np.sqrt(score)\n",
    "    return score\n",
    "\n",
    "\n",
    "# Prepare data\n",
    "df = pd.read_csv(\"../input/fe-course-data/ames.csv\")\n",
    "X = df.copy()\n",
    "y = X.pop(\"SalePrice\")"
   ]
  },
  {
   "cell_type": "markdown",
   "id": "52c9f667",
   "metadata": {
    "papermill": {
     "duration": 0.016682,
     "end_time": "2021-11-29T18:33:35.465697",
     "exception": false,
     "start_time": "2021-11-29T18:33:35.449015",
     "status": "completed"
    },
    "tags": []
   },
   "source": [
    "-------------------------------------------------------------------------------\n",
    "\n",
    "Let's start with a few mathematical combinations. We'll focus on features describing areas -- having the same units (square-feet) makes it easy to combine them in sensible ways. Since we're using XGBoost (a tree-based model), we'll focus on ratios and sums.\n",
    "\n",
    "# 1) Create Mathematical Transforms\n",
    "\n",
    "Create the following features:\n",
    "\n",
    "- `LivLotRatio`: the ratio of `GrLivArea` to `LotArea`\n",
    "- `Spaciousness`: the sum of `FirstFlrSF` and `SecondFlrSF` divided by `TotRmsAbvGrd`\n",
    "- `TotalOutsideSF`: the sum of `WoodDeckSF`, `OpenPorchSF`, `EnclosedPorch`, `Threeseasonporch`, and `ScreenPorch`"
   ]
  },
  {
   "cell_type": "code",
   "execution_count": 2,
   "id": "c5e86277",
   "metadata": {
    "execution": {
     "iopub.execute_input": "2021-11-29T18:33:35.512506Z",
     "iopub.status.busy": "2021-11-29T18:33:35.511797Z",
     "iopub.status.idle": "2021-11-29T18:33:35.526367Z",
     "shell.execute_reply": "2021-11-29T18:33:35.526878Z",
     "shell.execute_reply.started": "2021-11-29T18:31:02.032895Z"
    },
    "lines_to_next_cell": 0,
    "papermill": {
     "duration": 0.044471,
     "end_time": "2021-11-29T18:33:35.527048",
     "exception": false,
     "start_time": "2021-11-29T18:33:35.482577",
     "status": "completed"
    },
    "tags": []
   },
   "outputs": [
    {
     "data": {
      "application/javascript": [
       "parent.postMessage({\"jupyterEvent\": \"custom.exercise_interaction\", \"data\": {\"outcomeType\": 1, \"valueTowardsCompletion\": 0.2, \"interactionType\": 1, \"questionType\": 2, \"questionId\": \"1_Q1\", \"learnToolsVersion\": \"0.3.4\", \"failureMessage\": \"\", \"exceptionClass\": \"\", \"trace\": \"\"}}, \"*\")"
      ],
      "text/plain": [
       "<IPython.core.display.Javascript object>"
      ]
     },
     "metadata": {},
     "output_type": "display_data"
    },
    {
     "data": {
      "text/markdown": [
       "<span style=\"color:#33cc33\">Correct</span>"
      ],
      "text/plain": [
       "Correct"
      ]
     },
     "metadata": {},
     "output_type": "display_data"
    }
   ],
   "source": [
    "# YOUR CODE HERE\n",
    "X_1 = pd.DataFrame()  # dataframe to hold new features\n",
    "\n",
    "X_1[\"LivLotRatio\"] = df.GrLivArea / df.LotArea\n",
    "X_1[\"Spaciousness\"] = (df.FirstFlrSF + df.SecondFlrSF) / df.TotRmsAbvGrd\n",
    "X_1[\"TotalOutsideSF\"] = df.WoodDeckSF + df.OpenPorchSF + df.EnclosedPorch + df.Threeseasonporch + df.ScreenPorch\n",
    "\n",
    "\n",
    "# Check your answer\n",
    "q_1.check()"
   ]
  },
  {
   "cell_type": "code",
   "execution_count": 3,
   "id": "f43e6044",
   "metadata": {
    "execution": {
     "iopub.execute_input": "2021-11-29T18:33:35.565504Z",
     "iopub.status.busy": "2021-11-29T18:33:35.564651Z",
     "iopub.status.idle": "2021-11-29T18:33:35.568181Z",
     "shell.execute_reply": "2021-11-29T18:33:35.567681Z",
     "shell.execute_reply.started": "2021-11-29T18:31:15.234595Z"
    },
    "lines_to_next_cell": 0,
    "papermill": {
     "duration": 0.023835,
     "end_time": "2021-11-29T18:33:35.568325",
     "exception": false,
     "start_time": "2021-11-29T18:33:35.544490",
     "status": "completed"
    },
    "tags": []
   },
   "outputs": [],
   "source": [
    "# Lines below will give you a hint or solution code\n",
    "#q_1.hint()\n",
    "#q_1.solution()"
   ]
  },
  {
   "cell_type": "markdown",
   "id": "38ec57e0",
   "metadata": {
    "papermill": {
     "duration": 0.01677,
     "end_time": "2021-11-29T18:33:35.602490",
     "exception": false,
     "start_time": "2021-11-29T18:33:35.585720",
     "status": "completed"
    },
    "tags": []
   },
   "source": [
    "-------------------------------------------------------------------------------\n",
    "\n",
    "If you've discovered an interaction effect between a numeric feature and a categorical feature, you might want to model it explicitly using a one-hot encoding, like so:\n",
    "\n",
    "```\n",
    "# One-hot encode Categorical feature, adding a column prefix \"Cat\"\n",
    "X_new = pd.get_dummies(df.Categorical, prefix=\"Cat\")\n",
    "\n",
    "# Multiply row-by-row\n",
    "X_new = X_new.mul(df.Continuous, axis=0)\n",
    "\n",
    "# Join the new features to the feature set\n",
    "X = X.join(X_new)\n",
    "```\n",
    "\n",
    "# 2) Interaction with a Categorical\n",
    "\n",
    "We discovered an interaction between `BldgType` and `GrLivArea` in Exercise 2. Now create their interaction features."
   ]
  },
  {
   "cell_type": "code",
   "execution_count": 4,
   "id": "4e7f8c07",
   "metadata": {
    "execution": {
     "iopub.execute_input": "2021-11-29T18:33:35.643677Z",
     "iopub.status.busy": "2021-11-29T18:33:35.642953Z",
     "iopub.status.idle": "2021-11-29T18:33:35.652799Z",
     "shell.execute_reply": "2021-11-29T18:33:35.653388Z",
     "shell.execute_reply.started": "2021-11-29T18:31:51.983531Z"
    },
    "lines_to_next_cell": 0,
    "papermill": {
     "duration": 0.033984,
     "end_time": "2021-11-29T18:33:35.653584",
     "exception": false,
     "start_time": "2021-11-29T18:33:35.619600",
     "status": "completed"
    },
    "tags": []
   },
   "outputs": [
    {
     "data": {
      "application/javascript": [
       "parent.postMessage({\"jupyterEvent\": \"custom.exercise_interaction\", \"data\": {\"outcomeType\": 1, \"valueTowardsCompletion\": 0.2, \"interactionType\": 1, \"questionType\": 2, \"questionId\": \"2_Q2\", \"learnToolsVersion\": \"0.3.4\", \"failureMessage\": \"\", \"exceptionClass\": \"\", \"trace\": \"\"}}, \"*\")"
      ],
      "text/plain": [
       "<IPython.core.display.Javascript object>"
      ]
     },
     "metadata": {},
     "output_type": "display_data"
    },
    {
     "data": {
      "text/markdown": [
       "<span style=\"color:#33cc33\">Correct</span>"
      ],
      "text/plain": [
       "Correct"
      ]
     },
     "metadata": {},
     "output_type": "display_data"
    }
   ],
   "source": [
    "# YOUR CODE HERE\n",
    "# One-hot encode BldgType. Use `prefix=\"Bldg\"` in `get_dummies`\n",
    "X_2 = pd.get_dummies(df.BldgType, prefix=\"Bldg\")\n",
    "# Multiply\n",
    "X_2 = X_2.mul(df.GrLivArea, axis=0)\n",
    "\n",
    "\n",
    "# Check your answer\n",
    "q_2.check()"
   ]
  },
  {
   "cell_type": "code",
   "execution_count": 5,
   "id": "20754e73",
   "metadata": {
    "execution": {
     "iopub.execute_input": "2021-11-29T18:33:35.693862Z",
     "iopub.status.busy": "2021-11-29T18:33:35.692966Z",
     "iopub.status.idle": "2021-11-29T18:33:35.696764Z",
     "shell.execute_reply": "2021-11-29T18:33:35.696221Z",
     "shell.execute_reply.started": "2021-11-29T18:31:56.897967Z"
    },
    "lines_to_next_cell": 0,
    "papermill": {
     "duration": 0.024906,
     "end_time": "2021-11-29T18:33:35.696906",
     "exception": false,
     "start_time": "2021-11-29T18:33:35.672000",
     "status": "completed"
    },
    "tags": []
   },
   "outputs": [],
   "source": [
    "# Lines below will give you a hint or solution code\n",
    "#q_2.hint()\n",
    "#q_2.solution()"
   ]
  },
  {
   "cell_type": "markdown",
   "id": "33266153",
   "metadata": {
    "lines_to_next_cell": 0,
    "papermill": {
     "duration": 0.018606,
     "end_time": "2021-11-29T18:33:35.733794",
     "exception": false,
     "start_time": "2021-11-29T18:33:35.715188",
     "status": "completed"
    },
    "tags": []
   },
   "source": [
    "# 3) Count Feature\n",
    "\n",
    "Let's try creating a feature that describes how many kinds of outdoor areas a dwelling has. Create a feature `PorchTypes` that counts how many of the following are greater than 0.0:\n",
    "\n",
    "```\n",
    "WoodDeckSF\n",
    "OpenPorchSF\n",
    "EnclosedPorch\n",
    "Threeseasonporch\n",
    "ScreenPorch\n",
    "```"
   ]
  },
  {
   "cell_type": "code",
   "execution_count": 6,
   "id": "7d07a2e6",
   "metadata": {
    "execution": {
     "iopub.execute_input": "2021-11-29T18:33:35.781434Z",
     "iopub.status.busy": "2021-11-29T18:33:35.780393Z",
     "iopub.status.idle": "2021-11-29T18:33:35.792764Z",
     "shell.execute_reply": "2021-11-29T18:33:35.793366Z",
     "shell.execute_reply.started": "2021-11-29T18:32:21.085886Z"
    },
    "lines_to_next_cell": 0,
    "papermill": {
     "duration": 0.04091,
     "end_time": "2021-11-29T18:33:35.793562",
     "exception": false,
     "start_time": "2021-11-29T18:33:35.752652",
     "status": "completed"
    },
    "tags": []
   },
   "outputs": [
    {
     "data": {
      "application/javascript": [
       "parent.postMessage({\"jupyterEvent\": \"custom.exercise_interaction\", \"data\": {\"outcomeType\": 1, \"valueTowardsCompletion\": 0.2, \"interactionType\": 1, \"questionType\": 2, \"questionId\": \"3_Q3\", \"learnToolsVersion\": \"0.3.4\", \"failureMessage\": \"\", \"exceptionClass\": \"\", \"trace\": \"\"}}, \"*\")"
      ],
      "text/plain": [
       "<IPython.core.display.Javascript object>"
      ]
     },
     "metadata": {},
     "output_type": "display_data"
    },
    {
     "data": {
      "text/markdown": [
       "<span style=\"color:#33cc33\">Correct</span>"
      ],
      "text/plain": [
       "Correct"
      ]
     },
     "metadata": {},
     "output_type": "display_data"
    }
   ],
   "source": [
    "X_3 = pd.DataFrame()\n",
    "\n",
    "# YOUR CODE HERE\n",
    "X_3[\"PorchTypes\"] = df[[\n",
    "    \"WoodDeckSF\",\n",
    "    \"OpenPorchSF\",\n",
    "    \"EnclosedPorch\",\n",
    "    \"Threeseasonporch\",\n",
    "    \"ScreenPorch\",\n",
    "]].gt(0.0).sum(axis=1)\n",
    "\n",
    "\n",
    "# Check your answer\n",
    "q_3.check()"
   ]
  },
  {
   "cell_type": "code",
   "execution_count": 7,
   "id": "6ea4b552",
   "metadata": {
    "execution": {
     "iopub.execute_input": "2021-11-29T18:33:35.835584Z",
     "iopub.status.busy": "2021-11-29T18:33:35.834612Z",
     "iopub.status.idle": "2021-11-29T18:33:35.837763Z",
     "shell.execute_reply": "2021-11-29T18:33:35.838348Z",
     "shell.execute_reply.started": "2021-11-29T18:32:25.558419Z"
    },
    "lines_to_next_cell": 0,
    "papermill": {
     "duration": 0.025788,
     "end_time": "2021-11-29T18:33:35.838514",
     "exception": false,
     "start_time": "2021-11-29T18:33:35.812726",
     "status": "completed"
    },
    "tags": []
   },
   "outputs": [],
   "source": [
    "# Lines below will give you a hint or solution code\n",
    "#q_3.hint()\n",
    "#q_3.solution()"
   ]
  },
  {
   "cell_type": "markdown",
   "id": "318475e6",
   "metadata": {
    "papermill": {
     "duration": 0.018962,
     "end_time": "2021-11-29T18:33:35.876875",
     "exception": false,
     "start_time": "2021-11-29T18:33:35.857913",
     "status": "completed"
    },
    "tags": []
   },
   "source": [
    "# 4) Break Down a Categorical Feature\n",
    "\n",
    "`MSSubClass` describes the type of a dwelling:"
   ]
  },
  {
   "cell_type": "code",
   "execution_count": 8,
   "id": "16cde8be",
   "metadata": {
    "execution": {
     "iopub.execute_input": "2021-11-29T18:33:35.919438Z",
     "iopub.status.busy": "2021-11-29T18:33:35.918471Z",
     "iopub.status.idle": "2021-11-29T18:33:35.925196Z",
     "shell.execute_reply": "2021-11-29T18:33:35.925759Z",
     "shell.execute_reply.started": "2021-11-29T18:32:29.532072Z"
    },
    "papermill": {
     "duration": 0.029824,
     "end_time": "2021-11-29T18:33:35.925931",
     "exception": false,
     "start_time": "2021-11-29T18:33:35.896107",
     "status": "completed"
    },
    "tags": []
   },
   "outputs": [
    {
     "data": {
      "text/plain": [
       "array(['One_Story_1946_and_Newer_All_Styles', 'Two_Story_1946_and_Newer',\n",
       "       'One_Story_PUD_1946_and_Newer',\n",
       "       'One_and_Half_Story_Finished_All_Ages', 'Split_Foyer',\n",
       "       'Two_Story_PUD_1946_and_Newer', 'Split_or_Multilevel',\n",
       "       'One_Story_1945_and_Older', 'Duplex_All_Styles_and_Ages',\n",
       "       'Two_Family_conversion_All_Styles_and_Ages',\n",
       "       'One_and_Half_Story_Unfinished_All_Ages',\n",
       "       'Two_Story_1945_and_Older', 'Two_and_Half_Story_All_Ages',\n",
       "       'One_Story_with_Finished_Attic_All_Ages',\n",
       "       'PUD_Multilevel_Split_Level_Foyer',\n",
       "       'One_and_Half_Story_PUD_All_Ages'], dtype=object)"
      ]
     },
     "execution_count": 8,
     "metadata": {},
     "output_type": "execute_result"
    }
   ],
   "source": [
    "df.MSSubClass.unique()"
   ]
  },
  {
   "cell_type": "markdown",
   "id": "3130f75c",
   "metadata": {
    "papermill": {
     "duration": 0.019257,
     "end_time": "2021-11-29T18:33:35.964717",
     "exception": false,
     "start_time": "2021-11-29T18:33:35.945460",
     "status": "completed"
    },
    "tags": []
   },
   "source": [
    "You can see that there is a more general categorization described (roughly) by the first word of each category. Create a feature containing only these first words by splitting `MSSubClass` at the first underscore `_`. (Hint: In the `split` method use an argument `n=1`.)"
   ]
  },
  {
   "cell_type": "code",
   "execution_count": 9,
   "id": "13095114",
   "metadata": {
    "execution": {
     "iopub.execute_input": "2021-11-29T18:33:36.007536Z",
     "iopub.status.busy": "2021-11-29T18:33:36.006583Z",
     "iopub.status.idle": "2021-11-29T18:33:36.031048Z",
     "shell.execute_reply": "2021-11-29T18:33:36.031595Z",
     "shell.execute_reply.started": "2021-11-29T18:32:45.784805Z"
    },
    "lines_to_next_cell": 0,
    "papermill": {
     "duration": 0.047615,
     "end_time": "2021-11-29T18:33:36.031777",
     "exception": false,
     "start_time": "2021-11-29T18:33:35.984162",
     "status": "completed"
    },
    "tags": []
   },
   "outputs": [
    {
     "data": {
      "application/javascript": [
       "parent.postMessage({\"jupyterEvent\": \"custom.exercise_interaction\", \"data\": {\"outcomeType\": 1, \"valueTowardsCompletion\": 0.2, \"interactionType\": 1, \"questionType\": 2, \"questionId\": \"4_Q4\", \"learnToolsVersion\": \"0.3.4\", \"failureMessage\": \"\", \"exceptionClass\": \"\", \"trace\": \"\"}}, \"*\")"
      ],
      "text/plain": [
       "<IPython.core.display.Javascript object>"
      ]
     },
     "metadata": {},
     "output_type": "display_data"
    },
    {
     "data": {
      "text/markdown": [
       "<span style=\"color:#33cc33\">Correct</span>"
      ],
      "text/plain": [
       "Correct"
      ]
     },
     "metadata": {},
     "output_type": "display_data"
    }
   ],
   "source": [
    "X_4 = pd.DataFrame()\n",
    "\n",
    "# YOUR CODE HERE\n",
    "X_4[\"MSClass\"] = df.MSSubClass.str.split(\"_\", n=1, expand=True)[0]\n",
    "\n",
    "\n",
    "# Check your answer\n",
    "q_4.check()"
   ]
  },
  {
   "cell_type": "code",
   "execution_count": 10,
   "id": "75766865",
   "metadata": {
    "execution": {
     "iopub.execute_input": "2021-11-29T18:33:36.078382Z",
     "iopub.status.busy": "2021-11-29T18:33:36.077324Z",
     "iopub.status.idle": "2021-11-29T18:33:36.079482Z",
     "shell.execute_reply": "2021-11-29T18:33:36.079987Z",
     "shell.execute_reply.started": "2021-11-29T18:32:49.912878Z"
    },
    "lines_to_next_cell": 0,
    "papermill": {
     "duration": 0.027456,
     "end_time": "2021-11-29T18:33:36.080160",
     "exception": false,
     "start_time": "2021-11-29T18:33:36.052704",
     "status": "completed"
    },
    "tags": []
   },
   "outputs": [],
   "source": [
    "# Lines below will give you a hint or solution code\n",
    "#q_4.hint()\n",
    "#q_4.solution()"
   ]
  },
  {
   "cell_type": "markdown",
   "id": "0372ebe5",
   "metadata": {
    "papermill": {
     "duration": 0.020412,
     "end_time": "2021-11-29T18:33:36.121381",
     "exception": false,
     "start_time": "2021-11-29T18:33:36.100969",
     "status": "completed"
    },
    "tags": []
   },
   "source": [
    "# 5) Use a Grouped Transform\n",
    "\n",
    "The value of a home often depends on how it compares to typical homes in its neighborhood. Create a feature `MedNhbdArea` that describes the *median* of `GrLivArea` grouped on `Neighborhood`."
   ]
  },
  {
   "cell_type": "code",
   "execution_count": 11,
   "id": "a0a602c4",
   "metadata": {
    "execution": {
     "iopub.execute_input": "2021-11-29T18:33:36.166483Z",
     "iopub.status.busy": "2021-11-29T18:33:36.165448Z",
     "iopub.status.idle": "2021-11-29T18:33:36.184093Z",
     "shell.execute_reply": "2021-11-29T18:33:36.184633Z",
     "shell.execute_reply.started": "2021-11-29T18:33:03.794898Z"
    },
    "lines_to_next_cell": 0,
    "papermill": {
     "duration": 0.042813,
     "end_time": "2021-11-29T18:33:36.184810",
     "exception": false,
     "start_time": "2021-11-29T18:33:36.141997",
     "status": "completed"
    },
    "tags": []
   },
   "outputs": [
    {
     "data": {
      "application/javascript": [
       "parent.postMessage({\"jupyterEvent\": \"custom.exercise_interaction\", \"data\": {\"outcomeType\": 1, \"valueTowardsCompletion\": 0.2, \"interactionType\": 1, \"questionType\": 2, \"questionId\": \"5_Q5\", \"learnToolsVersion\": \"0.3.4\", \"failureMessage\": \"\", \"exceptionClass\": \"\", \"trace\": \"\"}}, \"*\")"
      ],
      "text/plain": [
       "<IPython.core.display.Javascript object>"
      ]
     },
     "metadata": {},
     "output_type": "display_data"
    },
    {
     "data": {
      "text/markdown": [
       "<span style=\"color:#33cc33\">Correct</span>"
      ],
      "text/plain": [
       "Correct"
      ]
     },
     "metadata": {},
     "output_type": "display_data"
    }
   ],
   "source": [
    "X_5 = pd.DataFrame()\n",
    "\n",
    "# YOUR CODE HERE\n",
    "X_5[\"MedNhbdArea\"] = df.groupby(\"Neighborhood\")[\"GrLivArea\"].transform(\"median\")\n",
    "\n",
    "# Check your answer\n",
    "q_5.check()"
   ]
  },
  {
   "cell_type": "code",
   "execution_count": 12,
   "id": "ff6dd7b0",
   "metadata": {
    "execution": {
     "iopub.execute_input": "2021-11-29T18:33:36.232688Z",
     "iopub.status.busy": "2021-11-29T18:33:36.231634Z",
     "iopub.status.idle": "2021-11-29T18:33:36.233841Z",
     "shell.execute_reply": "2021-11-29T18:33:36.234301Z",
     "shell.execute_reply.started": "2021-11-29T18:33:07.388432Z"
    },
    "lines_to_next_cell": 0,
    "papermill": {
     "duration": 0.028275,
     "end_time": "2021-11-29T18:33:36.234474",
     "exception": false,
     "start_time": "2021-11-29T18:33:36.206199",
     "status": "completed"
    },
    "tags": []
   },
   "outputs": [],
   "source": [
    "# Lines below will give you a hint or solution code\n",
    "#q_5.hint()\n",
    "#q_5.solution()"
   ]
  },
  {
   "cell_type": "markdown",
   "id": "b5301aeb",
   "metadata": {
    "papermill": {
     "duration": 0.021178,
     "end_time": "2021-11-29T18:33:36.277477",
     "exception": false,
     "start_time": "2021-11-29T18:33:36.256299",
     "status": "completed"
    },
    "tags": []
   },
   "source": [
    "Now you've made your first new feature set! If you like, you can run the cell below to score the model with all of your new features added:"
   ]
  },
  {
   "cell_type": "code",
   "execution_count": 13,
   "id": "b20d1abd",
   "metadata": {
    "execution": {
     "iopub.execute_input": "2021-11-29T18:33:36.330071Z",
     "iopub.status.busy": "2021-11-29T18:33:36.329001Z",
     "iopub.status.idle": "2021-11-29T18:33:41.294822Z",
     "shell.execute_reply": "2021-11-29T18:33:41.295395Z"
    },
    "papermill": {
     "duration": 4.994127,
     "end_time": "2021-11-29T18:33:41.295614",
     "exception": false,
     "start_time": "2021-11-29T18:33:36.301487",
     "status": "completed"
    },
    "tags": []
   },
   "outputs": [
    {
     "data": {
      "text/plain": [
       "0.13847331710099203"
      ]
     },
     "execution_count": 13,
     "metadata": {},
     "output_type": "execute_result"
    }
   ],
   "source": [
    "X_new = X.join([X_1, X_2, X_3, X_4, X_5])\n",
    "score_dataset(X_new, y)"
   ]
  },
  {
   "cell_type": "markdown",
   "id": "cd44ba41",
   "metadata": {
    "papermill": {
     "duration": 0.024209,
     "end_time": "2021-11-29T18:33:41.343673",
     "exception": false,
     "start_time": "2021-11-29T18:33:41.319464",
     "status": "completed"
    },
    "tags": []
   },
   "source": [
    "# Keep Going #\n",
    "\n",
    "[**Untangle spatial relationships**](https://www.kaggle.com/ryanholbrook/clustering-with-k-means) by adding cluster labels to your dataset."
   ]
  }
 ],
 "metadata": {
  "kernelspec": {
   "display_name": "Python 3",
   "language": "python",
   "name": "python3"
  },
  "language_info": {
   "codemirror_mode": {
    "name": "ipython",
    "version": 3
   },
   "file_extension": ".py",
   "mimetype": "text/x-python",
   "name": "python",
   "nbconvert_exporter": "python",
   "pygments_lexer": "ipython3",
   "version": "3.7.10"
  },
  "papermill": {
   "default_parameters": {},
   "duration": 17.625263,
   "end_time": "2021-11-29T18:33:42.075691",
   "environment_variables": {},
   "exception": null,
   "input_path": "__notebook__.ipynb",
   "output_path": "__notebook__.ipynb",
   "parameters": {},
   "start_time": "2021-11-29T18:33:24.450428",
   "version": "2.3.3"
  }
 },
 "nbformat": 4,
 "nbformat_minor": 5
}
